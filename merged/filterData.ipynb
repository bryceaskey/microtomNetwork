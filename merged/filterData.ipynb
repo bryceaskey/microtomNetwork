{
 "metadata": {
  "language_info": {
   "codemirror_mode": {
    "name": "ipython",
    "version": 3
   },
   "file_extension": ".py",
   "mimetype": "text/x-python",
   "name": "python",
   "nbconvert_exporter": "python",
   "pygments_lexer": "ipython3",
   "version": "3.9.1-final"
  },
  "orig_nbformat": 2,
  "kernelspec": {
   "name": "python3",
   "display_name": "Python 3",
   "language": "python"
  }
 },
 "nbformat": 4,
 "nbformat_minor": 2,
 "cells": [
  {
   "cell_type": "code",
   "execution_count": 11,
   "metadata": {},
   "outputs": [],
   "source": [
    "import pandas as pd\n",
    "import numpy as np\n",
    "from scipy import stats"
   ]
  },
  {
   "cell_type": "code",
   "execution_count": 12,
   "metadata": {},
   "outputs": [],
   "source": [
    "# Load gene expression dataset\n",
    "exprData = pd.read_csv(filepath_or_buffer=\"microtomGeneExpression.csv\", header=2)\n",
    "exprData = exprData.set_index(\"Gene\")\n",
    "\n",
    "# Create dataframe with only data\n",
    "onlyExprData = exprData.iloc[:, 5:exprData.shape[1]]\n",
    "onlyExprData.index = exprData.index\n",
    "\n",
    "# Normalize the gene expression dataset using a sample-wise z-score normalization\n",
    "onlyExprDataTF = stats.zscore(onlyExprData, axis=1)\n",
    "onlyExprDataTF = pd.DataFrame(onlyExprDataTF, columns=onlyExprData.columns, index=onlyExprData.index)\n",
    "exprDataTF = exprData.iloc[:, 0:5]\n",
    "exprDataTF = pd.concat([exprDataTF, onlyExprDataTF], axis=1)"
   ]
  },
  {
   "cell_type": "code",
   "execution_count": 13,
   "metadata": {},
   "outputs": [
    {
     "output_type": "execute_result",
     "data": {
      "text/plain": [
       "                  Solyc05g005150.1\n",
       "Gene                              \n",
       "Solyc00g005000.3          0.684711\n",
       "Solyc00g005040.3         -0.295151\n",
       "Solyc00g005050.3         -0.525590\n",
       "Solyc00g005080.2          0.450393\n",
       "Solyc00g005084.1         -0.213430"
      ],
      "text/html": "<div>\n<style scoped>\n    .dataframe tbody tr th:only-of-type {\n        vertical-align: middle;\n    }\n\n    .dataframe tbody tr th {\n        vertical-align: top;\n    }\n\n    .dataframe thead th {\n        text-align: right;\n    }\n</style>\n<table border=\"1\" class=\"dataframe\">\n  <thead>\n    <tr style=\"text-align: right;\">\n      <th></th>\n      <th>Solyc05g005150.1</th>\n    </tr>\n    <tr>\n      <th>Gene</th>\n      <th></th>\n    </tr>\n  </thead>\n  <tbody>\n    <tr>\n      <th>Solyc00g005000.3</th>\n      <td>0.684711</td>\n    </tr>\n    <tr>\n      <th>Solyc00g005040.3</th>\n      <td>-0.295151</td>\n    </tr>\n    <tr>\n      <th>Solyc00g005050.3</th>\n      <td>-0.525590</td>\n    </tr>\n    <tr>\n      <th>Solyc00g005080.2</th>\n      <td>0.450393</td>\n    </tr>\n    <tr>\n      <th>Solyc00g005084.1</th>\n      <td>-0.213430</td>\n    </tr>\n  </tbody>\n</table>\n</div>"
     },
     "metadata": {},
     "execution_count": 13
    }
   ],
   "source": [
    "# Create correlation matrix for gene-gene interactions\n",
    "onlyExprDataTF = exprDataTF.iloc[:, 5:exprDataTF.shape[1]]\n",
    "exprPCC = np.zeros(shape=(onlyExprDataTF.shape[0], 1))\n",
    "\n",
    "for row in range(0, exprPCC.shape[0]):\n",
    "    exprPCC[row, 0] = np.corrcoef(onlyExprDataTF.loc[\"Solyc05g005150.1\"], onlyExprDataTF.iloc[row])[1, 0]\n",
    "exprPCC = pd.DataFrame(data=exprPCC, index=exprDataTF.index, columns=[\"Solyc05g005150.1\"])\n",
    "exprPCC.head()"
   ]
  },
  {
   "cell_type": "code",
   "execution_count": 14,
   "metadata": {},
   "outputs": [],
   "source": [
    "highCutoff = 0.85\n",
    "lowCutoff = -0.85\n",
    "\n",
    "exprEdges = pd.DataFrame(columns=[\"Gene1\", \"Gene2\", \"Direction\"])\n",
    "for row in range(0, exprPCC.shape[0]):\n",
    "    if exprPCC.iloc[row, 0] > highCutoff and exprPCC.iloc[row, 0] != 1:\n",
    "        exprEdges = exprEdges.append({\"Gene1\":exprPCC.index[row], \"Gene2\":\"Solyc05g005150.1\", \"Direction\":\"+\"}, ignore_index=True)\n",
    "    elif exprPCC.iloc[row, 0] < lowCutoff and exprPCC.iloc[row, 0] != 1:\n",
    "        exprEdges = exprEdges.append({\"Gene1\":exprPCC.index[row], \"Gene2\":\"Solyc05g005150.1\", \"Direction\":\"-\"}, ignore_index=True)\n",
    "exprEdges = exprEdges.drop_duplicates() # If run is split up, need to remove duplicates"
   ]
  },
  {
   "cell_type": "code",
   "execution_count": 15,
   "metadata": {},
   "outputs": [],
   "source": [
    "# Determine if there are any edges between genes included in exprEdges\n",
    "exprPCC = pd.DataFrame(np.zeros(shape=(exprEdges.shape[0], exprEdges.shape[0])), index=exprEdges.Gene1, columns=exprEdges.Gene1)\n",
    "\n",
    "for row in range(0, exprPCC.shape[0]):\n",
    "    for col in range(0, exprPCC.shape[1]):\n",
    "        exprPCC.iloc[row, col] = np.corrcoef(onlyExprDataTF.loc[exprPCC.index[row]], onlyExprDataTF.loc[exprPCC.columns[col]])[1, 0]"
   ]
  },
  {
   "cell_type": "code",
   "execution_count": 16,
   "metadata": {},
   "outputs": [],
   "source": [
    "upperExprPCC = pd.DataFrame(np.triu(exprPCC.to_numpy(), k=1), index=exprPCC.index, columns=exprPCC.columns)\n",
    "\n",
    "for row in range(0, upperExprPCC.shape[0]):\n",
    "    for col in range(0, upperExprPCC.shape[1]):\n",
    "        if upperExprPCC.iloc[row, col] > highCutoff:\n",
    "            exprEdges = exprEdges.append({\"Gene1\":upperExprPCC.index[row], \"Gene2\":upperExprPCC.columns[col], \"Direction\":\"+\"}, ignore_index=True)\n",
    "        elif upperExprPCC.iloc[row, col] < lowCutoff:\n",
    "            exprEdges = exprEdges.append({\"Gene1\":upperExprPCC.index[row], \"Gene2\":upperExprPCC.columns[col], \"Direction\":\"-\"}, ignore_index=True)\n",
    "exprEdges = exprEdges.drop_duplicates() # If run is split up, need to remove duplicates"
   ]
  },
  {
   "cell_type": "code",
   "execution_count": 17,
   "metadata": {},
   "outputs": [],
   "source": [
    "# Load and filter metabolite-gene edge dataset to \n",
    "metExprEdges = pd.read_csv(filepath_or_buffer=\"metExprEdges.csv\", header=0, index_col=0)\n",
    "metExprEdgesSubset = metExprEdges[metExprEdges.Gene == \"Solyc05g005150.1\"]\n",
    "metExprEdgesFiltered = metExprEdges[metExprEdges.Metabolite.isin(metExprEdgesSubset.Metabolite)]\n",
    "uniqueGenes = [exprEdges.Gene1, exprEdges.Gene2]\n",
    "uniqueGenes = list(set([y for x in uniqueGenes for y in x]))\n",
    "metExprEdgesSubset = metExprEdgesSubset.append(metExprEdgesFiltered[metExprEdgesFiltered.Gene.isin(uniqueGenes)])"
   ]
  },
  {
   "cell_type": "code",
   "execution_count": 18,
   "metadata": {},
   "outputs": [],
   "source": [
    "# Export edge datasets for drawing networks\n",
    "exprEdges.to_csv(path_or_buf=\"f-boxNetwork/exprEdges.csv\")\n",
    "metExprEdgesSubset.to_csv(path_or_buf=\"f-boxNetwork/metExprEdges.csv\")"
   ]
  }
 ]
}